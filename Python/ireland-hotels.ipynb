{
 "cells": [
  {
   "cell_type": "markdown",
   "id": "37e14b06",
   "metadata": {},
   "source": [
    "# List of Hotels in Ireland \n"
   ]
  },
  {
   "cell_type": "code",
   "execution_count": 1,
   "id": "970c2678",
   "metadata": {},
   "outputs": [],
   "source": [
    "import pandas as pd\n",
    "import numpy as np\n",
    "from sklearn.preprocessing import OneHotEncoder\n",
    "import re"
   ]
  },
  {
   "cell_type": "code",
   "execution_count": 2,
   "id": "205a8a3a",
   "metadata": {},
   "outputs": [],
   "source": [
    "data = pd.read_csv(\"booking.csv\", encoding = 'UTF-8')"
   ]
  },
  {
   "cell_type": "code",
   "execution_count": 3,
   "id": "744522ad",
   "metadata": {},
   "outputs": [
    {
     "data": {
      "text/html": [
       "<div>\n",
       "<style scoped>\n",
       "    .dataframe tbody tr th:only-of-type {\n",
       "        vertical-align: middle;\n",
       "    }\n",
       "\n",
       "    .dataframe tbody tr th {\n",
       "        vertical-align: top;\n",
       "    }\n",
       "\n",
       "    .dataframe thead th {\n",
       "        text-align: right;\n",
       "    }\n",
       "</style>\n",
       "<table border=\"1\" class=\"dataframe\">\n",
       "  <thead>\n",
       "    <tr style=\"text-align: right;\">\n",
       "      <th></th>\n",
       "      <th>hotel name</th>\n",
       "      <th>city</th>\n",
       "      <th>certification</th>\n",
       "      <th>score</th>\n",
       "      <th>review rate</th>\n",
       "      <th>reviews</th>\n",
       "      <th>room type</th>\n",
       "      <th>occupancy</th>\n",
       "      <th>Free cancellation</th>\n",
       "      <th>pay at the property</th>\n",
       "      <th>No prepayment needed</th>\n",
       "      <th>rooms left</th>\n",
       "      <th>nights/adults</th>\n",
       "      <th>price</th>\n",
       "      <th>location rate</th>\n",
       "      <th>bb included</th>\n",
       "    </tr>\n",
       "  </thead>\n",
       "  <tbody>\n",
       "    <tr>\n",
       "      <th>0</th>\n",
       "      <td>Radisson Blu Hotel, Athlone</td>\n",
       "      <td>Athlone</td>\n",
       "      <td>Sustainability certification</td>\n",
       "      <td>7.9</td>\n",
       "      <td>Good</td>\n",
       "      <td>6,092 reviews</td>\n",
       "      <td>Standard Room</td>\n",
       "      <td>Beds: 1 double or 2 twins</td>\n",
       "      <td>Free cancellation</td>\n",
       "      <td>– pay at the property</td>\n",
       "      <td>No prepayment needed</td>\n",
       "      <td>Only 5 rooms left at this price on our site</td>\n",
       "      <td>1 night, 2 adults</td>\n",
       "      <td>€ 259</td>\n",
       "      <td>NaN</td>\n",
       "      <td>NaN</td>\n",
       "    </tr>\n",
       "    <tr>\n",
       "      <th>1</th>\n",
       "      <td>Sheraton Athlone Hotel</td>\n",
       "      <td>Athlone</td>\n",
       "      <td>Sustainability certification</td>\n",
       "      <td>8.7</td>\n",
       "      <td>Excellent</td>\n",
       "      <td>5,418 reviews</td>\n",
       "      <td>Classic King Room</td>\n",
       "      <td>1 king bed</td>\n",
       "      <td>Free cancellation</td>\n",
       "      <td>NaN</td>\n",
       "      <td>NaN</td>\n",
       "      <td>Only 5 rooms left at this price on our site</td>\n",
       "      <td>1 night, 2 adults</td>\n",
       "      <td>€ 275</td>\n",
       "      <td>Location 9.4</td>\n",
       "      <td>NaN</td>\n",
       "    </tr>\n",
       "    <tr>\n",
       "      <th>2</th>\n",
       "      <td>Clayton Hotel Dublin Airport</td>\n",
       "      <td>Cloghran</td>\n",
       "      <td>Sustainability certification</td>\n",
       "      <td>8.3</td>\n",
       "      <td>Very Good</td>\n",
       "      <td>23,489 reviews</td>\n",
       "      <td>Deluxe Double &amp; Single Room</td>\n",
       "      <td>2 beds (1 twin, 1 full)</td>\n",
       "      <td>Free cancellation</td>\n",
       "      <td>NaN</td>\n",
       "      <td>NaN</td>\n",
       "      <td>NaN</td>\n",
       "      <td>1 night, 2 adults</td>\n",
       "      <td>€ 259</td>\n",
       "      <td>NaN</td>\n",
       "      <td>NaN</td>\n",
       "    </tr>\n",
       "    <tr>\n",
       "      <th>3</th>\n",
       "      <td>Lawlors Hotel</td>\n",
       "      <td>Naas</td>\n",
       "      <td>NaN</td>\n",
       "      <td>8.8</td>\n",
       "      <td>Excellent</td>\n",
       "      <td>2,379 reviews</td>\n",
       "      <td>Twin Room</td>\n",
       "      <td>2 full beds</td>\n",
       "      <td>Free cancellation</td>\n",
       "      <td>– pay at the property</td>\n",
       "      <td>No prepayment needed</td>\n",
       "      <td>Only 2 rooms left at this price on our site</td>\n",
       "      <td>1 night, 2 adults</td>\n",
       "      <td>€ 329</td>\n",
       "      <td>Location 9.4</td>\n",
       "      <td>NaN</td>\n",
       "    </tr>\n",
       "    <tr>\n",
       "      <th>4</th>\n",
       "      <td>The Glendalough Hotel</td>\n",
       "      <td>Laragh</td>\n",
       "      <td>NaN</td>\n",
       "      <td>7.1</td>\n",
       "      <td>Good</td>\n",
       "      <td>989 reviews</td>\n",
       "      <td>Double or Twin Room</td>\n",
       "      <td>Beds: 1 double or 2 twins</td>\n",
       "      <td>NaN</td>\n",
       "      <td>NaN</td>\n",
       "      <td>NaN</td>\n",
       "      <td>Only 4 rooms left at this price on our site</td>\n",
       "      <td>1 night, 2 adults</td>\n",
       "      <td>€ 220</td>\n",
       "      <td>Location 9.5</td>\n",
       "      <td>Breakfast included</td>\n",
       "    </tr>\n",
       "  </tbody>\n",
       "</table>\n",
       "</div>"
      ],
      "text/plain": [
       "                     hotel name      city                 certification  \\\n",
       "0   Radisson Blu Hotel, Athlone   Athlone  Sustainability certification   \n",
       "1        Sheraton Athlone Hotel   Athlone  Sustainability certification   \n",
       "2  Clayton Hotel Dublin Airport  Cloghran  Sustainability certification   \n",
       "3                 Lawlors Hotel      Naas                           NaN   \n",
       "4         The Glendalough Hotel    Laragh                           NaN   \n",
       "\n",
       "   score review rate         reviews                    room type  \\\n",
       "0    7.9        Good   6,092 reviews                Standard Room   \n",
       "1    8.7   Excellent   5,418 reviews            Classic King Room   \n",
       "2    8.3   Very Good  23,489 reviews  Deluxe Double & Single Room   \n",
       "3    8.8   Excellent   2,379 reviews                    Twin Room   \n",
       "4    7.1        Good     989 reviews          Double or Twin Room   \n",
       "\n",
       "                   occupancy  Free cancellation    pay at the property  \\\n",
       "0  Beds: 1 double or 2 twins  Free cancellation  – pay at the property   \n",
       "1                 1 king bed  Free cancellation                    NaN   \n",
       "2    2 beds (1 twin, 1 full)  Free cancellation                    NaN   \n",
       "3                2 full beds  Free cancellation  – pay at the property   \n",
       "4  Beds: 1 double or 2 twins                NaN                    NaN   \n",
       "\n",
       "   No prepayment needed                                   rooms left  \\\n",
       "0  No prepayment needed  Only 5 rooms left at this price on our site   \n",
       "1                   NaN  Only 5 rooms left at this price on our site   \n",
       "2                   NaN                                          NaN   \n",
       "3  No prepayment needed  Only 2 rooms left at this price on our site   \n",
       "4                   NaN  Only 4 rooms left at this price on our site   \n",
       "\n",
       "       nights/adults  price location rate         bb included  \n",
       "0  1 night, 2 adults  € 259           NaN                 NaN  \n",
       "1  1 night, 2 adults  € 275  Location 9.4                 NaN  \n",
       "2  1 night, 2 adults  € 259           NaN                 NaN  \n",
       "3  1 night, 2 adults  € 329  Location 9.4                 NaN  \n",
       "4  1 night, 2 adults  € 220  Location 9.5  Breakfast included  "
      ]
     },
     "execution_count": 3,
     "metadata": {},
     "output_type": "execute_result"
    }
   ],
   "source": [
    "data.head()"
   ]
  },
  {
   "cell_type": "code",
   "execution_count": 4,
   "id": "0cb2c94b",
   "metadata": {},
   "outputs": [
    {
     "name": "stdout",
     "output_type": "stream",
     "text": [
      "<class 'pandas.core.frame.DataFrame'>\n",
      "RangeIndex: 501 entries, 0 to 500\n",
      "Data columns (total 16 columns):\n",
      " #   Column                Non-Null Count  Dtype  \n",
      "---  ------                --------------  -----  \n",
      " 0   hotel name            501 non-null    object \n",
      " 1   city                  501 non-null    object \n",
      " 2   certification         136 non-null    object \n",
      " 3   score                 500 non-null    float64\n",
      " 4   review rate           500 non-null    object \n",
      " 5   reviews               500 non-null    object \n",
      " 6   room type             501 non-null    object \n",
      " 7   occupancy             501 non-null    object \n",
      " 8   Free cancellation     296 non-null    object \n",
      " 9   pay at the property   180 non-null    object \n",
      " 10  No prepayment needed  180 non-null    object \n",
      " 11  rooms left            337 non-null    object \n",
      " 12  nights/adults         501 non-null    object \n",
      " 13  price                 501 non-null    object \n",
      " 14  location rate         158 non-null    object \n",
      " 15  bb included           175 non-null    object \n",
      "dtypes: float64(1), object(15)\n",
      "memory usage: 62.8+ KB\n"
     ]
    }
   ],
   "source": [
    "data.info()"
   ]
  },
  {
   "cell_type": "markdown",
   "id": "8e21a0a2",
   "metadata": {},
   "source": [
    "### Insights from .info()\n",
    "\n",
    "- A lot of features with null values.\n",
    "- change data type of columns 'reviews', 'rooms left', 'price'.\n",
    "- drop columns 'certification', 'nights/adults','pay at the property'.\n",
    "- 'Free cancellation','No prepayment needed', 'bb included' are binary features.\n",
    "\n",
    "\n",
    "### Step-by-step list\n",
    "\n",
    "- Checking for duplicates rows.\n",
    "- Checking Null rows or rows that won't have enough information.\n",
    "- Dropping columns that won't be used.\n",
    "- Converting 'reviews' into numeric.\n",
    "- Cleaning 'location rate' feature.\n",
    "- Removing € sign from 'price' and converting into float.\n",
    "- Cleaning categorical features. Filling null values with information.\n",
    "- Cleaning 'rooms left' and converting into numeric value.\n",
    "- Save file"
   ]
  },
  {
   "cell_type": "markdown",
   "id": "0f83a5f2",
   "metadata": {},
   "source": [
    "### Checking for duplicates"
   ]
  },
  {
   "cell_type": "code",
   "execution_count": 5,
   "id": "7ad560a6",
   "metadata": {},
   "outputs": [],
   "source": [
    "duplicates = data[data.duplicated]\n",
    "\n",
    "data.drop_duplicates(inplace=True)"
   ]
  },
  {
   "cell_type": "markdown",
   "id": "c7b2e0c0",
   "metadata": {},
   "source": [
    "### Checking for entire rows with null values"
   ]
  },
  {
   "cell_type": "code",
   "execution_count": 6,
   "id": "0655de03",
   "metadata": {},
   "outputs": [],
   "source": [
    "all_null_rows = data[data.isnull().all(axis=1)]\n",
    "data.dropna(axis=0, how='all', inplace = True)"
   ]
  },
  {
   "cell_type": "markdown",
   "id": "54ea70c6",
   "metadata": {},
   "source": [
    "### Dropping columns that won't be used."
   ]
  },
  {
   "cell_type": "code",
   "execution_count": 7,
   "id": "bff51963",
   "metadata": {},
   "outputs": [
    {
     "name": "stdout",
     "output_type": "stream",
     "text": [
      "\n",
      "\n",
      "certification\n",
      "Sustainability certification    91\n",
      "•  •  •  •                       7\n",
      "•  •  •                          5\n",
      "Managed by a private host        4\n",
      "•  •                             3\n",
      "•  •  •  •  •                    2\n",
      "Name: count, dtype: int64\n",
      "\n",
      "\n",
      "nights/adults\n",
      "1 night, 2 adults    451\n",
      "Name: count, dtype: int64\n"
     ]
    }
   ],
   "source": [
    "print(\"\\n\")\n",
    "print(data['certification'].value_counts())\n",
    "print(\"\\n\")\n",
    "print(data['nights/adults'].value_counts())"
   ]
  },
  {
   "cell_type": "code",
   "execution_count": 8,
   "id": "8dbda1cd",
   "metadata": {},
   "outputs": [],
   "source": [
    "data.drop(columns=['certification'], inplace = True)\n",
    "data.drop(columns=['nights/adults'], inplace = True)\n",
    "data.drop(columns=['pay at the property'], inplace = True)"
   ]
  },
  {
   "cell_type": "markdown",
   "id": "717033f8",
   "metadata": {},
   "source": [
    "### Converting 'reviews' into numeric."
   ]
  },
  {
   "cell_type": "code",
   "execution_count": 9,
   "id": "6f074560",
   "metadata": {},
   "outputs": [
    {
     "data": {
      "text/html": [
       "<div>\n",
       "<style scoped>\n",
       "    .dataframe tbody tr th:only-of-type {\n",
       "        vertical-align: middle;\n",
       "    }\n",
       "\n",
       "    .dataframe tbody tr th {\n",
       "        vertical-align: top;\n",
       "    }\n",
       "\n",
       "    .dataframe thead th {\n",
       "        text-align: right;\n",
       "    }\n",
       "</style>\n",
       "<table border=\"1\" class=\"dataframe\">\n",
       "  <thead>\n",
       "    <tr style=\"text-align: right;\">\n",
       "      <th></th>\n",
       "      <th>hotel name</th>\n",
       "      <th>city</th>\n",
       "      <th>score</th>\n",
       "      <th>review rate</th>\n",
       "      <th>reviews</th>\n",
       "      <th>room type</th>\n",
       "      <th>occupancy</th>\n",
       "      <th>Free cancellation</th>\n",
       "      <th>No prepayment needed</th>\n",
       "      <th>rooms left</th>\n",
       "      <th>price</th>\n",
       "      <th>location rate</th>\n",
       "      <th>bb included</th>\n",
       "    </tr>\n",
       "  </thead>\n",
       "  <tbody>\n",
       "    <tr>\n",
       "      <th>492</th>\n",
       "      <td>The Marcy Boutique Accommodation</td>\n",
       "      <td>Drogheda</td>\n",
       "      <td>NaN</td>\n",
       "      <td>NaN</td>\n",
       "      <td>NaN</td>\n",
       "      <td>Double Room</td>\n",
       "      <td>1 full bed</td>\n",
       "      <td>NaN</td>\n",
       "      <td>NaN</td>\n",
       "      <td>Only 5 rooms left at this price on our site</td>\n",
       "      <td>€ 179</td>\n",
       "      <td>NaN</td>\n",
       "      <td>NaN</td>\n",
       "    </tr>\n",
       "  </tbody>\n",
       "</table>\n",
       "</div>"
      ],
      "text/plain": [
       "                           hotel name      city  score review rate reviews  \\\n",
       "492  The Marcy Boutique Accommodation  Drogheda    NaN         NaN     NaN   \n",
       "\n",
       "       room type   occupancy Free cancellation No prepayment needed  \\\n",
       "492  Double Room  1 full bed               NaN                  NaN   \n",
       "\n",
       "                                      rooms left  price location rate  \\\n",
       "492  Only 5 rooms left at this price on our site  € 179           NaN   \n",
       "\n",
       "    bb included  \n",
       "492         NaN  "
      ]
     },
     "execution_count": 9,
     "metadata": {},
     "output_type": "execute_result"
    }
   ],
   "source": [
    "rows_with_nan_reviews = data[data['reviews'].isna()]\n",
    "rows_with_nan_reviews"
   ]
  },
  {
   "cell_type": "code",
   "execution_count": 10,
   "id": "357deba2",
   "metadata": {},
   "outputs": [],
   "source": [
    "data.drop(data[data['hotel name'] == 'The Marcy Boutique Accommodation'].index, inplace=True)"
   ]
  },
  {
   "cell_type": "code",
   "execution_count": 11,
   "id": "8979a8b3",
   "metadata": {},
   "outputs": [],
   "source": [
    "data['reviews'] = data['reviews'].str.replace('reviews', '')"
   ]
  },
  {
   "cell_type": "code",
   "execution_count": 12,
   "id": "8454573a",
   "metadata": {},
   "outputs": [],
   "source": [
    "data['reviews'] = data['reviews'].str.replace(',', '').str.strip().astype(int)"
   ]
  },
  {
   "cell_type": "code",
   "execution_count": 13,
   "id": "8b3fa6dc",
   "metadata": {},
   "outputs": [
    {
     "data": {
      "text/html": [
       "<div>\n",
       "<style scoped>\n",
       "    .dataframe tbody tr th:only-of-type {\n",
       "        vertical-align: middle;\n",
       "    }\n",
       "\n",
       "    .dataframe tbody tr th {\n",
       "        vertical-align: top;\n",
       "    }\n",
       "\n",
       "    .dataframe thead th {\n",
       "        text-align: right;\n",
       "    }\n",
       "</style>\n",
       "<table border=\"1\" class=\"dataframe\">\n",
       "  <thead>\n",
       "    <tr style=\"text-align: right;\">\n",
       "      <th></th>\n",
       "      <th>hotel name</th>\n",
       "      <th>city</th>\n",
       "      <th>score</th>\n",
       "      <th>review rate</th>\n",
       "      <th>reviews</th>\n",
       "      <th>room type</th>\n",
       "      <th>occupancy</th>\n",
       "      <th>Free cancellation</th>\n",
       "      <th>No prepayment needed</th>\n",
       "      <th>rooms left</th>\n",
       "      <th>price</th>\n",
       "      <th>location rate</th>\n",
       "      <th>bb included</th>\n",
       "    </tr>\n",
       "  </thead>\n",
       "  <tbody>\n",
       "    <tr>\n",
       "      <th>0</th>\n",
       "      <td>Radisson Blu Hotel, Athlone</td>\n",
       "      <td>Athlone</td>\n",
       "      <td>7.9</td>\n",
       "      <td>Good</td>\n",
       "      <td>6092</td>\n",
       "      <td>Standard Room</td>\n",
       "      <td>Beds: 1 double or 2 twins</td>\n",
       "      <td>Free cancellation</td>\n",
       "      <td>No prepayment needed</td>\n",
       "      <td>Only 5 rooms left at this price on our site</td>\n",
       "      <td>€ 259</td>\n",
       "      <td>NaN</td>\n",
       "      <td>NaN</td>\n",
       "    </tr>\n",
       "    <tr>\n",
       "      <th>1</th>\n",
       "      <td>Sheraton Athlone Hotel</td>\n",
       "      <td>Athlone</td>\n",
       "      <td>8.7</td>\n",
       "      <td>Excellent</td>\n",
       "      <td>5418</td>\n",
       "      <td>Classic King Room</td>\n",
       "      <td>1 king bed</td>\n",
       "      <td>Free cancellation</td>\n",
       "      <td>NaN</td>\n",
       "      <td>Only 5 rooms left at this price on our site</td>\n",
       "      <td>€ 275</td>\n",
       "      <td>Location 9.4</td>\n",
       "      <td>NaN</td>\n",
       "    </tr>\n",
       "    <tr>\n",
       "      <th>2</th>\n",
       "      <td>Clayton Hotel Dublin Airport</td>\n",
       "      <td>Cloghran</td>\n",
       "      <td>8.3</td>\n",
       "      <td>Very Good</td>\n",
       "      <td>23489</td>\n",
       "      <td>Deluxe Double &amp; Single Room</td>\n",
       "      <td>2 beds (1 twin, 1 full)</td>\n",
       "      <td>Free cancellation</td>\n",
       "      <td>NaN</td>\n",
       "      <td>NaN</td>\n",
       "      <td>€ 259</td>\n",
       "      <td>NaN</td>\n",
       "      <td>NaN</td>\n",
       "    </tr>\n",
       "    <tr>\n",
       "      <th>3</th>\n",
       "      <td>Lawlors Hotel</td>\n",
       "      <td>Naas</td>\n",
       "      <td>8.8</td>\n",
       "      <td>Excellent</td>\n",
       "      <td>2379</td>\n",
       "      <td>Twin Room</td>\n",
       "      <td>2 full beds</td>\n",
       "      <td>Free cancellation</td>\n",
       "      <td>No prepayment needed</td>\n",
       "      <td>Only 2 rooms left at this price on our site</td>\n",
       "      <td>€ 329</td>\n",
       "      <td>Location 9.4</td>\n",
       "      <td>NaN</td>\n",
       "    </tr>\n",
       "    <tr>\n",
       "      <th>4</th>\n",
       "      <td>The Glendalough Hotel</td>\n",
       "      <td>Laragh</td>\n",
       "      <td>7.1</td>\n",
       "      <td>Good</td>\n",
       "      <td>989</td>\n",
       "      <td>Double or Twin Room</td>\n",
       "      <td>Beds: 1 double or 2 twins</td>\n",
       "      <td>NaN</td>\n",
       "      <td>NaN</td>\n",
       "      <td>Only 4 rooms left at this price on our site</td>\n",
       "      <td>€ 220</td>\n",
       "      <td>Location 9.5</td>\n",
       "      <td>Breakfast included</td>\n",
       "    </tr>\n",
       "  </tbody>\n",
       "</table>\n",
       "</div>"
      ],
      "text/plain": [
       "                     hotel name      city  score review rate  reviews  \\\n",
       "0   Radisson Blu Hotel, Athlone   Athlone    7.9        Good     6092   \n",
       "1        Sheraton Athlone Hotel   Athlone    8.7   Excellent     5418   \n",
       "2  Clayton Hotel Dublin Airport  Cloghran    8.3   Very Good    23489   \n",
       "3                 Lawlors Hotel      Naas    8.8   Excellent     2379   \n",
       "4         The Glendalough Hotel    Laragh    7.1        Good      989   \n",
       "\n",
       "                     room type                  occupancy  Free cancellation  \\\n",
       "0                Standard Room  Beds: 1 double or 2 twins  Free cancellation   \n",
       "1            Classic King Room                 1 king bed  Free cancellation   \n",
       "2  Deluxe Double & Single Room    2 beds (1 twin, 1 full)  Free cancellation   \n",
       "3                    Twin Room                2 full beds  Free cancellation   \n",
       "4          Double or Twin Room  Beds: 1 double or 2 twins                NaN   \n",
       "\n",
       "   No prepayment needed                                   rooms left  price  \\\n",
       "0  No prepayment needed  Only 5 rooms left at this price on our site  € 259   \n",
       "1                   NaN  Only 5 rooms left at this price on our site  € 275   \n",
       "2                   NaN                                          NaN  € 259   \n",
       "3  No prepayment needed  Only 2 rooms left at this price on our site  € 329   \n",
       "4                   NaN  Only 4 rooms left at this price on our site  € 220   \n",
       "\n",
       "  location rate         bb included  \n",
       "0           NaN                 NaN  \n",
       "1  Location 9.4                 NaN  \n",
       "2           NaN                 NaN  \n",
       "3  Location 9.4                 NaN  \n",
       "4  Location 9.5  Breakfast included  "
      ]
     },
     "execution_count": 13,
     "metadata": {},
     "output_type": "execute_result"
    }
   ],
   "source": [
    "data.head()"
   ]
  },
  {
   "cell_type": "markdown",
   "id": "4d703ec4",
   "metadata": {},
   "source": [
    "### Cleaning 'location rate' feature"
   ]
  },
  {
   "cell_type": "code",
   "execution_count": 14,
   "id": "53c9f7fd",
   "metadata": {},
   "outputs": [
    {
     "name": "stdout",
     "output_type": "stream",
     "text": [
      "\n",
      "\n",
      "location rate\n",
      "Location 9.6    35\n",
      "Location 9.4    34\n",
      "Location 9.3    24\n",
      "Location 9.5    21\n",
      "Location 9.7    18\n",
      "Location 9.8    10\n",
      "Name: count, dtype: int64\n"
     ]
    }
   ],
   "source": [
    "print(\"\\n\")\n",
    "print(data['location rate'].value_counts())"
   ]
  },
  {
   "cell_type": "code",
   "execution_count": 15,
   "id": "e513593c",
   "metadata": {},
   "outputs": [],
   "source": [
    "data['location rate'] = data['location rate'].str.replace('Location', '')"
   ]
  },
  {
   "cell_type": "code",
   "execution_count": 16,
   "id": "af87d4c6",
   "metadata": {},
   "outputs": [],
   "source": [
    "data['location rate'] = data['location rate'].fillna('No rated')"
   ]
  },
  {
   "cell_type": "markdown",
   "id": "8e28263e",
   "metadata": {},
   "source": [
    "### Removing € sign from 'price' and converting into float."
   ]
  },
  {
   "cell_type": "code",
   "execution_count": 17,
   "id": "13a65341",
   "metadata": {},
   "outputs": [],
   "source": [
    "data['price'] = data['price'].str.replace('€', '')\n",
    "\n",
    "data['price'] = data['price'].str.replace('\\xa0', '').str.replace(',', '').astype(float)"
   ]
  },
  {
   "cell_type": "code",
   "execution_count": 18,
   "id": "83334900",
   "metadata": {},
   "outputs": [
    {
     "name": "stdout",
     "output_type": "stream",
     "text": [
      "<class 'pandas.core.frame.DataFrame'>\n",
      "Index: 450 entries, 0 to 500\n",
      "Data columns (total 13 columns):\n",
      " #   Column                Non-Null Count  Dtype  \n",
      "---  ------                --------------  -----  \n",
      " 0   hotel name            450 non-null    object \n",
      " 1   city                  450 non-null    object \n",
      " 2   score                 450 non-null    float64\n",
      " 3   review rate           450 non-null    object \n",
      " 4   reviews               450 non-null    int32  \n",
      " 5   room type             450 non-null    object \n",
      " 6   occupancy             450 non-null    object \n",
      " 7   Free cancellation     266 non-null    object \n",
      " 8   No prepayment needed  162 non-null    object \n",
      " 9   rooms left            308 non-null    object \n",
      " 10  price                 450 non-null    float64\n",
      " 11  location rate         450 non-null    object \n",
      " 12  bb included           161 non-null    object \n",
      "dtypes: float64(2), int32(1), object(10)\n",
      "memory usage: 47.5+ KB\n"
     ]
    }
   ],
   "source": [
    "data.info()"
   ]
  },
  {
   "cell_type": "markdown",
   "id": "c9860ed8",
   "metadata": {},
   "source": [
    "### Cleaning categorical features. Filling null values with information."
   ]
  },
  {
   "cell_type": "code",
   "execution_count": 19,
   "id": "3ede733f",
   "metadata": {},
   "outputs": [
    {
     "name": "stdout",
     "output_type": "stream",
     "text": [
      "review rate\n",
      "Very Good       193\n",
      "Excellent       125\n",
      "Good             73\n",
      "Wonderful        46\n",
      "Review score      9\n",
      "Exceptional       4\n",
      "Name: count, dtype: int64\n",
      "['Good' 'Excellent' 'Very Good' 'Wonderful' 'Review score' 'Exceptional']\n",
      "\n",
      "\n",
      "Free cancellation\n",
      "Free cancellation    266\n",
      "Name: count, dtype: int64\n",
      "['Free cancellation' nan]\n",
      "\n",
      "\n",
      "No prepayment needed\n",
      "No prepayment needed    162\n",
      "Name: count, dtype: int64\n",
      "['No prepayment needed' nan]\n",
      "\n",
      "\n",
      "bb included\n",
      "Breakfast included    161\n",
      "Name: count, dtype: int64\n",
      "[nan 'Breakfast included']\n"
     ]
    }
   ],
   "source": [
    "print(data['review rate'].value_counts())\n",
    "print(data['review rate'].unique())\n",
    "\n",
    "print(\"\\n\")\n",
    "print(data['Free cancellation'].value_counts())\n",
    "print(data['Free cancellation'].unique())\n",
    "\n",
    "\n",
    "print(\"\\n\")\n",
    "print(data['No prepayment needed'].value_counts())\n",
    "print(data['No prepayment needed'].unique())\n",
    "\n",
    "print(\"\\n\")\n",
    "print(data['bb included'].value_counts())\n",
    "print(data['bb included'].unique())\n"
   ]
  },
  {
   "cell_type": "code",
   "execution_count": 20,
   "id": "5cbb7363",
   "metadata": {},
   "outputs": [],
   "source": [
    "data['review rate'] = data['review rate'].str.replace('Review score', 'Not Good')\n",
    "\n",
    "data['Free cancellation'] = data['Free cancellation'].fillna('Check Policy')\n",
    "\n",
    "data['No prepayment needed'] = data['No prepayment needed'].fillna('Prepayment needed')\n",
    "\n",
    "data['bb included'] = data['bb included'].fillna('Room Only')"
   ]
  },
  {
   "cell_type": "markdown",
   "id": "3c475bbf",
   "metadata": {},
   "source": [
    "### Cleaning 'rooms left' and converting into numeric value."
   ]
  },
  {
   "cell_type": "code",
   "execution_count": 21,
   "id": "fcacc684",
   "metadata": {},
   "outputs": [
    {
     "name": "stdout",
     "output_type": "stream",
     "text": [
      "rooms left\n",
      "Only 1 room left at this price on our site     87\n",
      "Only 4 rooms left at this price on our site    48\n",
      "Only 2 rooms left at this price on our site    47\n",
      "Only 3 rooms left at this price on our site    44\n",
      "Only 5 rooms left at this price on our site    31\n",
      "Only 6 rooms left at this price on our site    24\n",
      "Only 1 left at this price on our site          14\n",
      "Only 7 rooms left at this price on our site     9\n",
      "Only 2 left at this price on our site           2\n",
      "Only 3 left at this price on our site           1\n",
      "Only 6 left at this price on our site           1\n",
      "Name: count, dtype: int64\n",
      "\n",
      "\n",
      "['Only 5 rooms left at this price on our site' nan\n",
      " 'Only 2 rooms left at this price on our site'\n",
      " 'Only 4 rooms left at this price on our site'\n",
      " 'Only 1 room left at this price on our site'\n",
      " 'Only 3 rooms left at this price on our site'\n",
      " 'Only 6 rooms left at this price on our site'\n",
      " 'Only 1 left at this price on our site'\n",
      " 'Only 7 rooms left at this price on our site'\n",
      " 'Only 3 left at this price on our site'\n",
      " 'Only 2 left at this price on our site'\n",
      " 'Only 6 left at this price on our site']\n"
     ]
    }
   ],
   "source": [
    "print(data['rooms left'].value_counts())\n",
    "\n",
    "print(\"\\n\")\n",
    "print(data['rooms left'].unique())"
   ]
  },
  {
   "cell_type": "code",
   "execution_count": 22,
   "id": "daf362c0",
   "metadata": {},
   "outputs": [],
   "source": [
    "data['rooms left'] = data['rooms left'].fillna('0') # Means there are no rooms available\n",
    "\n",
    "data['rooms left'] = data['rooms left'].apply(lambda x: re.findall(r'\\d+', str(x)))\n",
    "\n",
    "data['rooms left'] = data['rooms left'].apply(lambda x: ','.join(x))\n",
    "\n",
    "data['rooms left'] = pd.to_numeric(data['rooms left'])"
   ]
  },
  {
   "cell_type": "code",
   "execution_count": 23,
   "id": "938ee97c",
   "metadata": {},
   "outputs": [
    {
     "name": "stdout",
     "output_type": "stream",
     "text": [
      "rooms left\n",
      "0    142\n",
      "1    101\n",
      "2     49\n",
      "4     48\n",
      "3     45\n",
      "5     31\n",
      "6     25\n",
      "7      9\n",
      "Name: count, dtype: int64\n"
     ]
    }
   ],
   "source": [
    "print(data['rooms left'].value_counts())"
   ]
  },
  {
   "cell_type": "markdown",
   "id": "7327c0a8",
   "metadata": {},
   "source": [
    "### Data is cleaned"
   ]
  },
  {
   "cell_type": "code",
   "execution_count": 24,
   "id": "54bbe598",
   "metadata": {},
   "outputs": [
    {
     "data": {
      "text/html": [
       "<div>\n",
       "<style scoped>\n",
       "    .dataframe tbody tr th:only-of-type {\n",
       "        vertical-align: middle;\n",
       "    }\n",
       "\n",
       "    .dataframe tbody tr th {\n",
       "        vertical-align: top;\n",
       "    }\n",
       "\n",
       "    .dataframe thead th {\n",
       "        text-align: right;\n",
       "    }\n",
       "</style>\n",
       "<table border=\"1\" class=\"dataframe\">\n",
       "  <thead>\n",
       "    <tr style=\"text-align: right;\">\n",
       "      <th></th>\n",
       "      <th>hotel name</th>\n",
       "      <th>city</th>\n",
       "      <th>score</th>\n",
       "      <th>review rate</th>\n",
       "      <th>reviews</th>\n",
       "      <th>room type</th>\n",
       "      <th>occupancy</th>\n",
       "      <th>Free cancellation</th>\n",
       "      <th>No prepayment needed</th>\n",
       "      <th>rooms left</th>\n",
       "      <th>price</th>\n",
       "      <th>location rate</th>\n",
       "      <th>bb included</th>\n",
       "    </tr>\n",
       "  </thead>\n",
       "  <tbody>\n",
       "    <tr>\n",
       "      <th>0</th>\n",
       "      <td>Radisson Blu Hotel, Athlone</td>\n",
       "      <td>Athlone</td>\n",
       "      <td>7.9</td>\n",
       "      <td>Good</td>\n",
       "      <td>6092</td>\n",
       "      <td>Standard Room</td>\n",
       "      <td>Beds: 1 double or 2 twins</td>\n",
       "      <td>Free cancellation</td>\n",
       "      <td>No prepayment needed</td>\n",
       "      <td>5</td>\n",
       "      <td>259.0</td>\n",
       "      <td>No rated</td>\n",
       "      <td>Room Only</td>\n",
       "    </tr>\n",
       "    <tr>\n",
       "      <th>1</th>\n",
       "      <td>Sheraton Athlone Hotel</td>\n",
       "      <td>Athlone</td>\n",
       "      <td>8.7</td>\n",
       "      <td>Excellent</td>\n",
       "      <td>5418</td>\n",
       "      <td>Classic King Room</td>\n",
       "      <td>1 king bed</td>\n",
       "      <td>Free cancellation</td>\n",
       "      <td>Prepayment needed</td>\n",
       "      <td>5</td>\n",
       "      <td>275.0</td>\n",
       "      <td>9.4</td>\n",
       "      <td>Room Only</td>\n",
       "    </tr>\n",
       "    <tr>\n",
       "      <th>2</th>\n",
       "      <td>Clayton Hotel Dublin Airport</td>\n",
       "      <td>Cloghran</td>\n",
       "      <td>8.3</td>\n",
       "      <td>Very Good</td>\n",
       "      <td>23489</td>\n",
       "      <td>Deluxe Double &amp; Single Room</td>\n",
       "      <td>2 beds (1 twin, 1 full)</td>\n",
       "      <td>Free cancellation</td>\n",
       "      <td>Prepayment needed</td>\n",
       "      <td>0</td>\n",
       "      <td>259.0</td>\n",
       "      <td>No rated</td>\n",
       "      <td>Room Only</td>\n",
       "    </tr>\n",
       "    <tr>\n",
       "      <th>3</th>\n",
       "      <td>Lawlors Hotel</td>\n",
       "      <td>Naas</td>\n",
       "      <td>8.8</td>\n",
       "      <td>Excellent</td>\n",
       "      <td>2379</td>\n",
       "      <td>Twin Room</td>\n",
       "      <td>2 full beds</td>\n",
       "      <td>Free cancellation</td>\n",
       "      <td>No prepayment needed</td>\n",
       "      <td>2</td>\n",
       "      <td>329.0</td>\n",
       "      <td>9.4</td>\n",
       "      <td>Room Only</td>\n",
       "    </tr>\n",
       "    <tr>\n",
       "      <th>4</th>\n",
       "      <td>The Glendalough Hotel</td>\n",
       "      <td>Laragh</td>\n",
       "      <td>7.1</td>\n",
       "      <td>Good</td>\n",
       "      <td>989</td>\n",
       "      <td>Double or Twin Room</td>\n",
       "      <td>Beds: 1 double or 2 twins</td>\n",
       "      <td>Check Policy</td>\n",
       "      <td>Prepayment needed</td>\n",
       "      <td>4</td>\n",
       "      <td>220.0</td>\n",
       "      <td>9.5</td>\n",
       "      <td>Breakfast included</td>\n",
       "    </tr>\n",
       "  </tbody>\n",
       "</table>\n",
       "</div>"
      ],
      "text/plain": [
       "                     hotel name      city  score review rate  reviews  \\\n",
       "0   Radisson Blu Hotel, Athlone   Athlone    7.9        Good     6092   \n",
       "1        Sheraton Athlone Hotel   Athlone    8.7   Excellent     5418   \n",
       "2  Clayton Hotel Dublin Airport  Cloghran    8.3   Very Good    23489   \n",
       "3                 Lawlors Hotel      Naas    8.8   Excellent     2379   \n",
       "4         The Glendalough Hotel    Laragh    7.1        Good      989   \n",
       "\n",
       "                     room type                  occupancy  Free cancellation  \\\n",
       "0                Standard Room  Beds: 1 double or 2 twins  Free cancellation   \n",
       "1            Classic King Room                 1 king bed  Free cancellation   \n",
       "2  Deluxe Double & Single Room    2 beds (1 twin, 1 full)  Free cancellation   \n",
       "3                    Twin Room                2 full beds  Free cancellation   \n",
       "4          Double or Twin Room  Beds: 1 double or 2 twins       Check Policy   \n",
       "\n",
       "   No prepayment needed  rooms left  price location rate         bb included  \n",
       "0  No prepayment needed           5  259.0      No rated           Room Only  \n",
       "1     Prepayment needed           5  275.0           9.4           Room Only  \n",
       "2     Prepayment needed           0  259.0      No rated           Room Only  \n",
       "3  No prepayment needed           2  329.0           9.4           Room Only  \n",
       "4     Prepayment needed           4  220.0           9.5  Breakfast included  "
      ]
     },
     "execution_count": 24,
     "metadata": {},
     "output_type": "execute_result"
    }
   ],
   "source": [
    "data.head()"
   ]
  },
  {
   "cell_type": "code",
   "execution_count": 25,
   "id": "9432d969",
   "metadata": {},
   "outputs": [
    {
     "name": "stdout",
     "output_type": "stream",
     "text": [
      "<class 'pandas.core.frame.DataFrame'>\n",
      "Index: 450 entries, 0 to 500\n",
      "Data columns (total 13 columns):\n",
      " #   Column                Non-Null Count  Dtype  \n",
      "---  ------                --------------  -----  \n",
      " 0   hotel name            450 non-null    object \n",
      " 1   city                  450 non-null    object \n",
      " 2   score                 450 non-null    float64\n",
      " 3   review rate           450 non-null    object \n",
      " 4   reviews               450 non-null    int32  \n",
      " 5   room type             450 non-null    object \n",
      " 6   occupancy             450 non-null    object \n",
      " 7   Free cancellation     450 non-null    object \n",
      " 8   No prepayment needed  450 non-null    object \n",
      " 9   rooms left            450 non-null    int64  \n",
      " 10  price                 450 non-null    float64\n",
      " 11  location rate         450 non-null    object \n",
      " 12  bb included           450 non-null    object \n",
      "dtypes: float64(2), int32(1), int64(1), object(9)\n",
      "memory usage: 47.5+ KB\n"
     ]
    }
   ],
   "source": [
    "data.info()"
   ]
  },
  {
   "cell_type": "markdown",
   "id": "cbe0bf87",
   "metadata": {},
   "source": [
    "### Saving csv file"
   ]
  },
  {
   "cell_type": "code",
   "execution_count": 26,
   "id": "6460ba48",
   "metadata": {},
   "outputs": [],
   "source": [
    "data.to_csv('booking_cleaned.csv')"
   ]
  }
 ],
 "metadata": {
  "kernelspec": {
   "display_name": "Python 3 (ipykernel)",
   "language": "python",
   "name": "python3"
  },
  "language_info": {
   "codemirror_mode": {
    "name": "ipython",
    "version": 3
   },
   "file_extension": ".py",
   "mimetype": "text/x-python",
   "name": "python",
   "nbconvert_exporter": "python",
   "pygments_lexer": "ipython3",
   "version": "3.11.7"
  }
 },
 "nbformat": 4,
 "nbformat_minor": 5
}
